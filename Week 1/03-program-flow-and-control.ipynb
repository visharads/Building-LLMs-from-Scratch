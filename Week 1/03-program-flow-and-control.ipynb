{
 "cells": [
  {
   "cell_type": "code",
   "execution_count": null,
   "metadata": {},
   "outputs": [],
   "source": [
    "# In this unit we look into the basic program flow and control structures.\n",
    "\n",
    "# A Python program typically begins by 'importing' a set of packages.\n",
    "# A package is essentially a library of pre-written functions, ready for our use\n",
    "# They expand our capabilities multifold\n",
    "\n",
    "# We begin by importing a very useful module named 'numpy'\n",
    "# While importing, we can provide a shorter alias for referring to the module, e.g. 'np'\n",
    "# and use this alias to refer to functionality within the module in a compact manner\n",
    "# We will be covering numpy in detail later, but we will start using some of it's functions"
   ]
  },
  {
   "cell_type": "code",
   "execution_count": null,
   "metadata": {},
   "outputs": [],
   "source": [
    "import numpy as np\n",
    "\n",
    "# The numpy module is documented at https://numpy.org/doc/stable/index.html"
   ]
  },
  {
   "cell_type": "code",
   "execution_count": null,
   "metadata": {},
   "outputs": [],
   "source": [
    "# Just to start using numpy, let's create a list of random numbers (type : real) using the numpy.random module\n",
    "# To find out more about the numpy.random module visit: https://numpy.org/doc/stable/reference/random/index.html\n",
    "random_numbers = np.random.rand(10)\n",
    "print(random_numbers)"
   ]
  },
  {
   "cell_type": "code",
   "execution_count": null,
   "metadata": {},
   "outputs": [],
   "source": [
    "# We want to write our own code to calculate the 'sum' of the numbers in the list \n",
    "# We can do that by using a Python control structure - the for loop\n",
    "\n",
    "# Note that we take a couple of steps in the following statements\n",
    "    # 1. We create a variable to store the sum of the list\n",
    "    # 2. We iterate over the list and add each element to the sum\n",
    "\n",
    "# Also note the syntax of the for statement. The 'for' statement line ends with a ':'\n",
    "# and the next line is indented. In Python this signals the beginning of a new block\n",
    "# So long as the subsequent statements are indented, they all belong to the 'forblock\n",
    "\n",
    "my_sum = 0\n",
    "for i in random_numbers:\n",
    "    my_sum += i\n",
    "    \n",
    "print(f\"There are {len(random_numbers)} numbers in the list\")\n",
    "print(f\"Their sum: {my_sum}\")\n",
    "\n",
    "# The average of the list is simply the sum divided by the number of elements in the list\n",
    "average = my_sum / len(random_numbers)\n",
    "print(f\"Their average: {average}\")"
   ]
  },
  {
   "cell_type": "code",
   "execution_count": null,
   "metadata": {},
   "outputs": [],
   "source": [
    "# We can also use the 'while' control structure to do this\n",
    "\n",
    "my_sum = 0\n",
    "list_len = len(random_numbers)\n",
    "i = 0\n",
    "\n",
    "while(i < list_len):\n",
    "    my_sum += random_numbers[i]\n",
    "    i += 1\n",
    "    \n",
    "print(f\"Sum of the numbers in the list: {my_sum}\")\n",
    "\n",
    "# Notice that we have created a block of two statements in the while loop"
   ]
  },
  {
   "cell_type": "code",
   "execution_count": null,
   "metadata": {},
   "outputs": [],
   "source": [
    "# Q: When will you use 'for' and when will you use 'while'?"
   ]
  },
  {
   "cell_type": "code",
   "execution_count": null,
   "metadata": {},
   "outputs": [],
   "source": [
    "# For some strange reason, if we want the sum of only those numbers greater than 0.5 ...\n",
    "# we can use the 'if' control structure\n",
    "\n",
    "my_sum = 0\n",
    "my_count = 0\n",
    "for i in random_numbers:\n",
    "    if(i > 0.5):\n",
    "        my_sum += i\n",
    "        my_count += 1\n",
    "    \n",
    "print(f\"There are {my_count} numbers greater than 0.5 in the list, and their Sum is : {my_sum}\")\n",
    "\n",
    "# Notice that a new 'block' of two statements is created for the 'if' statement"
   ]
  },
  {
   "cell_type": "code",
   "execution_count": null,
   "metadata": {},
   "outputs": [],
   "source": [
    "# A couple of keywords are relevant in the context of for, while and if statements\n",
    "# These are 'break' and 'continue'\n",
    "# The 'break' causes the program to immediately exit the block\n",
    "# The 'continue' causes the program to skip the rest of the block and continue with the next iteration\n",
    "\n",
    "my_sum = 0\n",
    "my_count = 0\n",
    "for i in random_numbers:\n",
    "    if(i > 0.5):\n",
    "        my_sum += i\n",
    "        my_count += 1\n",
    "        if(my_sum > 1.0):  # If the sum exceeds 1.0, stop the loop by breaking out of it\n",
    "            break\n",
    "    \n",
    "print(f\"{my_count} entries in the list had to be summed before their Sum exceeded 1.\\nThe sum at the point of exit is  : {my_sum}\")"
   ]
  },
  {
   "cell_type": "code",
   "execution_count": null,
   "metadata": {},
   "outputs": [],
   "source": [
    "# Example of 'continue'\n",
    "my_sum = 0\n",
    "my_count = 0\n",
    "for i in random_numbers:\n",
    "    if(i >= 0.5):\n",
    "        continue\n",
    "\n",
    "    my_sum += i\n",
    "    my_count += 1\n",
    "\n",
    "    \n",
    "print(f\"The list: {random_numbers}\")\n",
    "print(f\"There are {my_count} entries in the list with value less than 0.5. Their sum is  : {my_sum}\")"
   ]
  },
  {
   "cell_type": "code",
   "execution_count": null,
   "metadata": {},
   "outputs": [],
   "source": [
    "# Of course, we could have avoided the 'manual' summing by using the appropriate function in the numpy module\n",
    "print(np.sum(random_numbers))\n",
    "print(np.average(random_numbers))\n",
    "\n",
    "# That's the real advantage of importing packages like numpy\n",
    "# We will be importing many such packages in the near future\n",
    "# Packages have very useful functionality implemented in them and they help make Python code very compact and powerful\n",
    "#  ... because most work is done inside the packages!\n",
    "#  ... learning Python also involves understanding the existence of the packages and their capabilities"
   ]
  },
  {
   "cell_type": "code",
   "execution_count": null,
   "metadata": {},
   "outputs": [],
   "source": [
    "# We have started talking about 'function's, what are they? How to create them?\n",
    "# Functions allow you to create reusable blocks of code that get executed when the function is invoked (i.e. called)\n",
    "\n",
    "def sum_of_numbers(a_list):\n",
    "    my_sum = 0\n",
    "    my_count = 0\n",
    "    for i in a_list:\n",
    "        my_sum += i\n",
    "        my_count += 1\n",
    "    \n",
    "    return my_sum, my_count\n",
    "\n",
    "# The above statements defined a function, and we can now call it with multiple lists, one by one ...\n",
    "# Notice that the list returns two values ... sum and count ... and we need two variables to store them\n",
    "\n",
    "list1 = [1, 2, 3, 4, 5]\n",
    "list2 = [6, 7, 8, 9, 10]\n",
    "\n",
    "# We use the same function multiple times \n",
    "sum1, count1 = sum_of_numbers(list1)\n",
    "sum2, count2 = sum_of_numbers(list2)\n",
    "\n",
    "print(sum1, count1)\n",
    "print(sum2, count2)\n",
    "\n",
    "# The functions np.sum and np.average are functions defined in this manner and packaged into 'numpy'"
   ]
  },
  {
   "cell_type": "code",
   "execution_count": null,
   "metadata": {},
   "outputs": [],
   "source": [
    "# The basic control strcutres covered above are documented at\n",
    "# https://docs.python.org/3/tutorial/controlflow.html#more-control-flow-tools"
   ]
  },
  {
   "cell_type": "code",
   "execution_count": null,
   "metadata": {},
   "outputs": [],
   "source": [
    "# We now know the very basics of Python: types, variables, control structures, functions, ...\n",
    "# Good enough to start using it to solve some real world problems\n",
    "\n",
    "# We will look into some more advanced topics later ...\n",
    "# ... these topics will help us build more organized (class) and robust programs (exceptions, etc.)\n",
    "# ... but for now, we will use the basics to solve some real world problems"
   ]
  },
  {
   "cell_type": "code",
   "execution_count": null,
   "metadata": {},
   "outputs": [],
   "source": [
    "# To solve most problems we will 'import' the packages we need\n",
    "# and use the modules and functions defined therein\n",
    "# Some of the firsts packages will be numpy, scipy, matplotlib, pandas, ..."
   ]
  }
 ],
 "metadata": {
  "kernelspec": {
   "display_name": "Python 3 (ipykernel)",
   "language": "python",
   "name": "python3"
  },
  "language_info": {
   "codemirror_mode": {
    "name": "ipython",
    "version": 3
   },
   "file_extension": ".py",
   "mimetype": "text/x-python",
   "name": "python",
   "nbconvert_exporter": "python",
   "pygments_lexer": "ipython3",
   "version": "3.9.16"
  }
 },
 "nbformat": 4,
 "nbformat_minor": 2
}
