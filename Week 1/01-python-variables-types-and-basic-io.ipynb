{
 "cells": [
  {
   "cell_type": "code",
   "execution_count": null,
   "metadata": {},
   "outputs": [],
   "source": [
    "# Welcome to the 'Python Programming Language'!\n",
    "# This unit is an introduction to the most basic concepts and features of the Python programming language\n",
    "# It covers : Variables, the basic Data Types, basic mathematical operations \n",
    "\n",
    "# In addition, this unit also covers basic i/o operations \n",
    "#   such as interactive input, print, and file I/O\n"
   ]
  },
  {
   "cell_type": "code",
   "execution_count": null,
   "metadata": {},
   "outputs": [],
   "source": [
    "# BTW, in a Python program any sequence after a '#' is a comment (like this line)\n",
    "#   and it is ignored during program execution!!\n",
    "\n",
    "''' Talking about comments ... multiple line comments can be written within triple quotes\n",
    "as shown here\n",
    "'''"
   ]
  },
  {
   "cell_type": "code",
   "execution_count": null,
   "metadata": {},
   "outputs": [],
   "source": [
    "# What is a variable?\n",
    "# Variables in Python (... or, in any programming language) are 'containers', that are used to store data.\n",
    "# Variables are given names, which are known as identifiers.\n",
    "#   So, what, really, are variables, and what are identifiers?\n",
    "\n",
    "# In Python an identifier can consist of:\n",
    "#   Upper and lowercase letters of the alphabet, underscores, and digits 0 to 9.\n",
    "\n",
    "# BTW, do you know What is a 'random variable'?"
   ]
  },
  {
   "cell_type": "code",
   "execution_count": null,
   "metadata": {},
   "outputs": [],
   "source": [
    "# Examples of variables / identifiers\n",
    "# Variables can be of various 'types' as enumerated below and further explained later\n",
    " \n",
    "v1 = \"the first variable of this course!\"   # string\n",
    "v2 = 2023.8                                 # float\n",
    "v3 = True                                   # boolean\n",
    "v4 = [1,2,3,4,5]                            # list\n",
    "v5 = (1,2,3,4,5)                            # tuple\n",
    "v6 = {\"name\": \"Aditi\", \"age\": 25}           # dictionary\n",
    "v7 = {1,2,3,4,5}                            # set\n",
    "v8 = 3                                      # int i.e. integer\n",
    "v9 = 0b1010                                 # binary ... essentially an int\n",
    "v10 = 0o17                                  # octal ... essentially an int\n",
    "v11 = 0x1F                                  # hexadecimal ...  essentially an int\n",
    "v12 = None                                  # None\n"
   ]
  },
  {
   "cell_type": "code",
   "execution_count": null,
   "metadata": {},
   "outputs": [],
   "source": [
    "# Introducing the simplest way to print the value of a variable ... and also your introduction to a 'function'!\n",
    "# A function is a reusable piece of code that can be repeatedly called to perform a specific task\n",
    "# In the following statements, we are calling, or 'invoking' the 'print' function\n",
    "# More about 'defining' functions in later modules ... till then we just use them\n",
    "\n",
    "print(v1, v2, v3, v4, v5, v6)\n",
    "print(v7, v8, v9, v10, v11, v12)"
   ]
  },
  {
   "cell_type": "code",
   "execution_count": null,
   "metadata": {},
   "outputs": [],
   "source": [
    "### Data Types in Python\n",
    "# Python supports various built-in data types, such as int, float, str, bool, complex, list, tuple, set, and dict.\n",
    "# They can also be classified into the following categories: \n",
    "#   Numeric types, Sequence types, Set types, Mapping types, Boolean types, Binary type and None type\n",
    "\n",
    "# There are also user-defined data types that can be a combination of built-in data types ... \n",
    "# In this exercise we are only interested in the built-in data types"
   ]
  },
  {
   "cell_type": "code",
   "execution_count": null,
   "metadata": {},
   "outputs": [],
   "source": [
    "# Lets print out the 'type' of every variable defined above\n",
    "print(type(v1), type(v2), type(v3), type(v4), type(v5), type(v6))\n",
    "print(type(v7), type(v8), type(v9), type(v10), type(v11), type(v12))"
   ]
  },
  {
   "cell_type": "code",
   "execution_count": null,
   "metadata": {},
   "outputs": [],
   "source": [
    "# More about Variables names or identifiers: they are case-sensitive\n",
    "# By convention, they follow 'snake_case' notation\n",
    "#   What is snake_case?\n",
    "#   Which are the other popular variable naming conventions ( used in other languages?)\n",
    "\n",
    "# Python is dynamically typed, so you don't need to specify the data type explicitly. \n",
    "#   It is inferred from the specified value of the variable"
   ]
  },
  {
   "cell_type": "code",
   "execution_count": null,
   "metadata": {},
   "outputs": [],
   "source": [
    "# Let's create some more variables of the simpler data types, with more meaningful identifiers\n",
    "\n",
    "age         = 25            # An integer variable\n",
    "height      = 5.11          # A float variable\n",
    "name        = \"Aditi\"       # A string variable\n",
    "is_student  = True          # A boolean variable\n",
    "complex_num = 3 + 4j        # A complex variable\n",
    "a_general_variable = \"Initialized to string\"   # We will change the type of this variable later, to illustrate dynamic typing"
   ]
  },
  {
   "cell_type": "code",
   "execution_count": null,
   "metadata": {},
   "outputs": [],
   "source": [
    "# Informative printing ...\n",
    "print(\"Name:\", name)\n",
    "print(\"Age:\", age)\n",
    "print(\"Height:\", height)\n",
    "print(\"Is Student:\", is_student)\n",
    "print(\"Complex Number:\", complex_num)\n",
    "print(\"A general variable: its value is\", a_general_variable, \"and its type is:\", type(a_general_variable))"
   ]
  },
  {
   "cell_type": "code",
   "execution_count": null,
   "metadata": {},
   "outputs": [],
   "source": [
    "# A more convenient and concide way to print\n",
    "# Notice the use of 'f' before the string to be printed ...\n",
    "# also notice the variable names embedded in the string but enclosed in brace brackets, \n",
    "\n",
    "print(f\"Name: {name}, Age: {age}, Height: {height}, Is Student: {is_student}, Complex Number: {complex_num}\")"
   ]
  },
  {
   "cell_type": "code",
   "execution_count": null,
   "metadata": {},
   "outputs": [],
   "source": [
    "# Still better?\n",
    "print(f\" Name: {name}\\n Age: {age}\\n Height: {height}\\n Is Student: {is_student}\\n Complex Number: {complex_num}\")"
   ]
  },
  {
   "cell_type": "code",
   "execution_count": null,
   "metadata": {},
   "outputs": [],
   "source": [
    "# Q: Using f-strings, is it possible to format the output in a more customized way?\n",
    "#   For example, specify the total width, justification, and number of significant digits of a 'float' number\n",
    "# Q: Look up the old style output formatting methods also ... old code in Python would have them"
   ]
  },
  {
   "cell_type": "code",
   "execution_count": null,
   "metadata": {},
   "outputs": [],
   "source": [
    "# Variable re-assignment. Such operations may result in changing the variable type\n",
    "\n",
    "name = \"Ajay\"  # Changing the value of the 'name' variable\n",
    "print(\"Updated Name:\", name)\n",
    "\n",
    "a_general_variable = 10 # This also results in changing the variable type\n",
    "print(f\"New value of \\'General Variable\\': {a_general_variable}, and its new type is: {type(a_general_variable)}\")"
   ]
  },
  {
   "cell_type": "code",
   "execution_count": null,
   "metadata": {},
   "outputs": [],
   "source": [
    "# Notice the use of 'escape' character '\\' in the above statement. What is it? Why is it needed?\n",
    "# Q: Which other such escape characters and escape sequences are pre-defined, and when are they used?"
   ]
  },
  {
   "cell_type": "code",
   "execution_count": null,
   "metadata": {},
   "outputs": [],
   "source": [
    "# Q: Is it possible to create variables without assigning any value to them? If so, how?\n",
    "# Q: Is it possible to fix the type of a variable, ie. once defined the type cannot be changed?\n",
    "# Q: Is it possible to define a 'constant'?\n",
    "# Q: Is it possible to prevent the value of variable from being changed? That is, make a variable immutable?"
   ]
  },
  {
   "cell_type": "code",
   "execution_count": null,
   "metadata": {},
   "outputs": [],
   "source": [
    "# Conversion functions are available to convert one data type to another.\n",
    "# Typically, from a string to int, float, etc\n",
    "# This is required usually while interactively inputting data ... coming up later\n",
    "\n",
    "a = int(\"1\")\n",
    "b = float(\"1.1\")\n",
    "c = str(3)\n",
    "d = bool(5)\n",
    "print(a,b,c,d)"
   ]
  },
  {
   "cell_type": "code",
   "execution_count": null,
   "metadata": {},
   "outputs": [],
   "source": [
    "# In Python everything is an 'object', derived from a 'class'\n",
    "# We will right now just get used to these terms, and understand how to use objects\n",
    "# In a later session we will understand how to define a class and create objects of that class\n",
    "\n",
    "# If you are using Jupyter Notebook, type 'a.' followed by TAB to get a list of functions available for 'a'\n",
    "# In VSC, type 'a.' to get all the operations available on 'a'"
   ]
  },
  {
   "cell_type": "code",
   "execution_count": null,
   "metadata": {},
   "outputs": [],
   "source": [
    "# Python provides a function to 'delete' a variable from the current 'namespace' i.e. memory\n",
    "i_exist = True\n",
    "print(i_exist)"
   ]
  },
  {
   "cell_type": "code",
   "execution_count": null,
   "metadata": {},
   "outputs": [],
   "source": [
    "del(i_exist)\n",
    "# print(i_exist)    # at this point the variable does not exist, hence executing this line raises an error"
   ]
  },
  {
   "cell_type": "code",
   "execution_count": null,
   "metadata": {},
   "outputs": [],
   "source": [
    "# Python allows multiple variables to be created /assigned at once\n",
    "v1, v2, v3 = 1, \"two\", 3.3\n",
    "print(v1, v2, v3)\n",
    "\n",
    "# This method is usually used to return multiple outputs from a 'function'. More on that later ..."
   ]
  },
  {
   "cell_type": "code",
   "execution_count": null,
   "metadata": {},
   "outputs": [],
   "source": [
    "# Operating with variables in Python\n",
    "# Python allows you to operate with / on variables using various 'operations'\n",
    "# Expressions can be built using variables and operations\n",
    "# Let's look at some examples of operations and their types\n",
    "\n",
    "# In the blocks that follow, print out the value of the variable after each operation to check the result\n",
    "# If you are clueless about what something like '+=' means, refer the following link\n",
    "# https://docs.python.org/3/reference/simple_stmts.html#augmented-assignment-statements"
   ]
  },
  {
   "cell_type": "code",
   "execution_count": null,
   "metadata": {},
   "outputs": [],
   "source": [
    "# Assignment operations\n",
    "a = 10  # Assignment\n",
    "a += 5  # Addition assignment\n",
    "a -= 5  # Subtraction assignment\n",
    "a *= 5  # Multiplication assignment\n",
    "a /= 5  # Division assignment\n",
    "a %= 5  # Modulo assignment\n",
    "a //= 5  # Floor division assignment\n",
    "a **= 5  # Exponentiation assignment\n"
   ]
  },
  {
   "cell_type": "code",
   "execution_count": null,
   "metadata": {},
   "outputs": [],
   "source": [
    "# Arithmetic operations\n",
    "a = 10 + 5  # Addition\n",
    "b = 10 - 5  # Subtraction\n",
    "c = 10 * 5  # Multiplication\n",
    "d = 10 / 5  # Division\n",
    "e = 10 // 5  # Floor Division\n",
    "f = 10 % 5  # Modulo/Remainder\n",
    "g = 10 ** 5  # Exponentiation"
   ]
  },
  {
   "cell_type": "code",
   "execution_count": null,
   "metadata": {},
   "outputs": [],
   "source": [
    "# Boolean, or comparison operations\n",
    "a = 10 == 5  # Equal to\n",
    "b = 10 != 5  # Not equal to\n",
    "c = 10 > 5  # Greater than\n",
    "d = 10 < 5  # Less than\n",
    "e = 10 >= 5  # Greater than or equal to\n",
    "f = 10 <= 5  # Less than or equal to"
   ]
  },
  {
   "cell_type": "code",
   "execution_count": null,
   "metadata": {},
   "outputs": [],
   "source": [
    "# Logical operations\n",
    "a = True and False  # Logical AND\n",
    "b = True or False  # Logical OR\n",
    "c = not True  # Logical NOT"
   ]
  },
  {
   "cell_type": "code",
   "execution_count": null,
   "metadata": {},
   "outputs": [],
   "source": [
    "# Bitwise operations\n",
    "a = 10 & 5  # Bitwise AND\n",
    "b = 10 | 5  # Bitwise OR\n",
    "c = 10 ^ 5  # Bitwise XOR\n",
    "d = ~10  # Bitwise NOT\n",
    "e = 10 << 2  # Left shift\n",
    "f = 10 >> 2  # Right shift\n"
   ]
  },
  {
   "cell_type": "code",
   "execution_count": null,
   "metadata": {},
   "outputs": [],
   "source": [
    "# Q: What is the difference between the x = x + 1 and x += 1 ? "
   ]
  },
  {
   "cell_type": "code",
   "execution_count": null,
   "metadata": {},
   "outputs": [],
   "source": [
    "# We will now look at the basic methods to handle input / output \n",
    "# That is, assign values to variables from an external source (e.g. the user using a keyboards)\n",
    "# and store the value of a variable in an external sink (e.g. a file)"
   ]
  },
  {
   "cell_type": "code",
   "execution_count": null,
   "metadata": {},
   "outputs": [],
   "source": [
    "# Basic input / output in Python\n",
    "\n",
    "# Values can be interactively assigned using the keyboard while initializing variables \n",
    "# using the input() function ... Python display the supplied prompt, and waits for a value to be specified\n",
    "\n",
    "# After you type the following statement, you will find a prompt on the screen, somewhere. Don't get lost!\n",
    "\n",
    "a_new_variable = input(\"Enter the value of the new variable: \")\n",
    "print(\"The value of the new variable is:\", a_new_variable, \"and its type is:\", type(a_new_variable))\n",
    "\n",
    "a_new_int = int(input(\"Enter a whole number: \"))\n",
    "print(f\"The value of the whole number is: {a_new_int}, and its type is: {type(a_new_int)}\")"
   ]
  },
  {
   "cell_type": "code",
   "execution_count": null,
   "metadata": {},
   "outputs": [],
   "source": [
    "# Variable values can be written out into a file using the following code\n",
    "# Write the variables to a text file\n",
    "\n",
    "with open(\"variables.txt\", \"w\") as file:\n",
    "    file.write(str(age) + \"\\n\")\n",
    "    file.write(str(height) + \"\\n\")\n",
    "    file.write(name + \"\\n\")\n",
    "    file.write(str(is_student) + \"\\n\")"
   ]
  },
  {
   "cell_type": "code",
   "execution_count": null,
   "metadata": {},
   "outputs": [],
   "source": [
    "# Define new variable to read their values from the file\n",
    "#rd_age, rd_height, rd_name, rd_is_student = None, None, None, None\n",
    "\n",
    "# Read the variables back from the text file\n",
    "with open(\"variables.txt\", \"r\") as file:\n",
    "    rd_age = int(file.readline().strip())\n",
    "    rd_height = float(file.readline().strip())\n",
    "    rd_name = file.readline().strip()\n",
    "    rd_is_student = bool(file.readline().strip())\n",
    "\n",
    "# Print the variables\n",
    "print(\"age =\", rd_age)\n",
    "print(\"height =\", rd_height)\n",
    "print(\"name =\", rd_name)\n",
    "print(\"is_student= \", rd_is_student)"
   ]
  },
  {
   "cell_type": "code",
   "execution_count": null,
   "metadata": {},
   "outputs": [],
   "source": [
    "# That's it in this unit. More types, built-in functions, and more Python features in the next unit !\n",
    "# In the meantime, go through the following links to learn more ...\n",
    "# https://docs.python.org/3.11/tutorial/appetite.html\n",
    "# https://www.python.org/about/gettingstarted/"
   ]
  }
 ],
 "metadata": {
  "kernelspec": {
   "display_name": "Python 3 (ipykernel)",
   "language": "python",
   "name": "python3"
  },
  "language_info": {
   "codemirror_mode": {
    "name": "ipython",
    "version": 3
   },
   "file_extension": ".py",
   "mimetype": "text/x-python",
   "name": "python",
   "nbconvert_exporter": "python",
   "pygments_lexer": "ipython3",
   "version": "3.11.5"
  }
 },
 "nbformat": 4,
 "nbformat_minor": 2
}
