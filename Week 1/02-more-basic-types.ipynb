{
 "cells": [
  {
   "cell_type": "code",
   "execution_count": null,
   "metadata": {},
   "outputs": [],
   "source": [
    "# Welcome back!\n",
    "\n",
    "# In this unit we will focus on additional, slightly more complex data types\n",
    "# We will learn about the following data types: string, list, tuple, set, and dict (dictionary)\n",
    "# These data types are known as Sequence Types"
   ]
  },
  {
   "cell_type": "code",
   "execution_count": null,
   "metadata": {},
   "outputs": [],
   "source": [
    "# str ... strings\n",
    "\n",
    "# This is a data type, and it is used to store text. In Python,\n",
    "#   Strings are enclosed in single or double quotes\n",
    "#   Strings are immutable, which means that they cannot be changed after they are created\n",
    "#   Strings are iterable, which means that you can loop over them\n",
    "#   Strings are indexed, which means that you can access individual characters\n",
    "\n",
    "# They can be manipulated, concatenated, split, compared, etc. using various operators and functions\n",
    "\n",
    "# Python documentation on strings is available at: https://docs.python.org/3/library/stdtypes.html#text-sequence-type-str"
   ]
  },
  {
   "cell_type": "code",
   "execution_count": null,
   "metadata": {},
   "outputs": [],
   "source": [
    "# Examples ...\n",
    "\n",
    "name_1 = \"Nagrik Gaowala\"\n",
    "name_2 = 'Nagrik Shaharwala'\n",
    "\n",
    "citizens = name_1 + \" and \" + name_2                # Concatenation\n",
    "print(f\"The following are citizens: {citizens}\")\n",
    "\n",
    "str_len = len(citizens)                                 # Length of the string \n",
    "print(f\"The length of the string is: {str_len}\")\n",
    "\n",
    "# Example of string indexing ... Note: Indexing starts at 0  \n",
    "print(f\"The first character of the string is: {citizens[0]}\")\n",
    "\n",
    "# Example of string slicing\n",
    "print(f\"The first three characters of the string are: {citizens[0:3]}\")\n",
    "\n",
    "# Example of string slicing from the end\n",
    "print(f\"The last three characters of the string are: {citizens[-3:]}\")"
   ]
  },
  {
   "cell_type": "code",
   "execution_count": null,
   "metadata": {},
   "outputs": [],
   "source": [
    "# The following built-in functions of Python can be used on strings\n",
    "#   len(), str(), format(), strip(), split(), join(), upper(), lower(), replace(), find()\n",
    "# A list of these built-in functions is available at https://docs.python.org/3/library/functions.html\n",
    "\n",
    "text = \"Hello, World!\"\n",
    "length = len(text)\n",
    "print(length)  # Output: 13\n",
    "\n",
    "number = 42\n",
    "number_str = str(number)\n",
    "print(number_str)  # Output: \"42\"\n",
    "\n",
    "name = \"Alia\"\n",
    "age = 25\n",
    "message = \"My name is {} and I am {} years old.\".format(name, age)\n",
    "print(message)  # Output: \"My name is Alia and I am 25 years old.\"\n",
    "\n",
    "text = \"Hello, World!\"\n",
    "lowercase_text = text.lower()\n",
    "print(lowercase_text)  # Output: \"hello, world!\"\n",
    "\n",
    "text = \"Hello, World!\"\n",
    "uppercase_text = text.upper()\n",
    "print(uppercase_text)  # Output: \"HELLO, WORLD!\"\n",
    "\n",
    "text = \"   Some text   \"\n",
    "stripped_text = text.strip()\n",
    "print(stripped_text)  # Output: \"Some text\"\n",
    "\n",
    "text = \"Hello, World!\"\n",
    "words = text.split(\", \") # split the string into a list using the delimiters ',' and '<space>\n",
    "print(words)  # Output: [\"Hello\", \"World!\"]\n",
    "\n",
    "words = [\"Hello\", \"World!\"]     # [\"Hello\", \"World!\"] is a list, more about lists soon\n",
    "text = \", \".join(words)\n",
    "print(text)  # Output: \"Hello, World!\"\n",
    "\n",
    "text = \"Hello, World!\"\n",
    "new_text = text.replace(\"Hello\", \"Hi\")\n",
    "print(new_text)  # Output: \"Hi, World!\"\n",
    "\n",
    "text = \"Hello, World!\"\n",
    "index = text.find(\"W\") # find the index of the first occurrence\n",
    "print(index)  # Output: 7"
   ]
  },
  {
   "cell_type": "code",
   "execution_count": null,
   "metadata": {},
   "outputs": [],
   "source": [
    "# In addition to the above built-in functions, there are many more functions that can be used on strings\n",
    "# These functions are defined as member functions of the Class 'str' (We will learn more about 'class' in a later unit)\n",
    "# and they can be accessed using a dot operator '.' as shown below \n",
    "\n",
    "text = \"Hello, World!\"\n",
    "print(text.upper())  # Output: \"HELLO, WORLD!\"\n",
    "\n",
    "# The member functions are too numerous to be enumerated here!\n",
    "# They are documented at https://docs.python.org/3/library/stdtypes.html#text-sequence-type-str\n",
    "# Visit this link to review these member functions and try them out here ..."
   ]
  },
  {
   "cell_type": "code",
   "execution_count": null,
   "metadata": {},
   "outputs": [],
   "source": [
    "# Q: What is the meaning of the word 'immutable'?\n",
    "# Q: How will you prove that a Python string, once defined, is immutable?\n",
    "# Q: If strings are immutable, what will you do if you have to modify a string?\n",
    "# Q: Is it possible to convert 123 to its English text 'one hundred and twenty three'? And vice-versa?"
   ]
  },
  {
   "cell_type": "code",
   "execution_count": null,
   "metadata": {},
   "outputs": [],
   "source": [
    "# Lists\n",
    "\n",
    "# Lists are used to store multiple items in a single variable.\n",
    "# In Python a list is enclosed within square brackets ... [a,b,c,d]\n",
    "# A list can be mixed. \n",
    "#   It can contain variables of different data types ... [1, 'hello', True, 3.14, [1,2,3]]\n",
    "\n",
    "# Python lists are mutable, which means that you can change the elements of the list after it is created\n",
    "# Lists are iterable, which means that you can loop over them ... as explained later\n",
    "\n",
    "# Python documentation on lists is available at: \n",
    "#   https://docs.python.org/3/tutorial/introduction.html#lists\n",
    "#   https://docs.python.org/3/tutorial/datastructures.html"
   ]
  },
  {
   "cell_type": "code",
   "execution_count": null,
   "metadata": {},
   "outputs": [],
   "source": [
    "# The following built-in functions of Python can be used on lists\n",
    "#   len(), append(), insert(), remove(), reverse(), sort()\n",
    "# A list of these built-in functions is available at https://docs.python.org/3/library/functions.html\n",
    "\n",
    "# Visit the documentation and try the functions by coding examples here ..."
   ]
  },
  {
   "cell_type": "code",
   "execution_count": null,
   "metadata": {},
   "outputs": [],
   "source": [
    "# List ... examples\n",
    "\n",
    "fruits = [\"apple\", \"banana\", \"mango\"] \n",
    "print(\"Printing the entire list:\",fruits)\n",
    "\n",
    "# Individual elements in a list can be accessed using square brackets\n",
    "# Note: The index starts at 0, and goes up to \"the length of the list minus 1\"\n",
    "print(\"Printing only the first element:\",fruits[0])\n",
    "print(\"Printing only the last element:\", fruits[len(fruits)-1])\n",
    "\n",
    "# You can also use negative indexes to access elements from the end of the list.\n",
    "# For example, fruits[-1] will access the last element in the list.\n",
    "print(\"Printing the last element using negative indexing:\", fruits[-1])\n",
    "\n",
    "# You can use the `len()` function to get the length of a list.\n",
    "print(\"The length of the list is:\", len(fruits))"
   ]
  },
  {
   "cell_type": "code",
   "execution_count": null,
   "metadata": {},
   "outputs": [],
   "source": [
    "# As in the case of strings, a number of list member functions (also known as methods) can be used\n",
    "\n",
    "# list methods are documented at : https://docs.python.org/3/tutorial/datastructures.html#more-on-lists\n",
    "# This documentation also outlines various uses of the list data type"
   ]
  },
  {
   "cell_type": "code",
   "execution_count": null,
   "metadata": {},
   "outputs": [],
   "source": [
    "# Some of the member functions in action ...\n",
    "\n",
    "# You can use the `append()` method to add elements to the end of a list.\n",
    "fruits.append(\"orange\")\n",
    "print(\"The list after appending 'orange':\", fruits)\n",
    "\n",
    "# You can use the `insert()` method to insert elements into a list at a specific index.\n",
    "fruits.insert(1, \"grapes\")\n",
    "print(\"The list after inserting 'grapes' at index 1:\", fruits)\n",
    "\n",
    "# You can use the `remove()` method to remove elements from a list.\n",
    "fruits.remove(\"banana\")\n",
    "print(\"The list after removing 'banana':\", fruits)\n",
    "\n",
    "# You can use the `sort()` method to sort the elements in a list.\n",
    "fruits.sort()\n",
    "print(\"The sorted list:\", fruits)\n",
    "\n",
    "# You can use the `reverse()` method to reverse the order of the elements in a list.\n",
    "fruits.reverse()\n",
    "print(\"The reversed list:\", fruits)"
   ]
  },
  {
   "cell_type": "code",
   "execution_count": null,
   "metadata": {},
   "outputs": [],
   "source": [
    "# List I/O\n",
    "\n",
    "# Initialize a list\n",
    "list_of_numbers = [1, 2, 3, 4, 5]\n",
    "\n",
    "# Write the list to a file ... note that the file will store the list as binary data\n",
    "with open(\"list_of_numbers.txt\", \"wb\") as file:\n",
    "    file.write(bytes(list_of_numbers))\n",
    "\n",
    "# Read the list back from the file\n",
    "with open(\"list_of_numbers.txt\", \"rb\") as file:\n",
    "    new_list_of_numbers = file.read()\n",
    "    new_list_of_numbers = list(new_list_of_numbers)\n",
    "\n",
    "# Print the list\n",
    "print(\"The list of numbers is:\", new_list_of_numbers)"
   ]
  },
  {
   "cell_type": "code",
   "execution_count": null,
   "metadata": {},
   "outputs": [],
   "source": [
    "# A list is useful in many ways, starting with its ability to store multiple items in a single variable\n",
    "# Once a list is created it can be iterated over ... a definite improvement over more traditional for loops\n",
    "# It can be used to initiaize more complex structures like matrices ... we will do all this soon ..."
   ]
  },
  {
   "cell_type": "code",
   "execution_count": null,
   "metadata": {},
   "outputs": [],
   "source": [
    "# tuples\n",
    "\n",
    "# In programming, a tuple is used to group related data together\n",
    "# It is a special kind of list, where the collection has a definite meaning\n",
    "# For example, a row of an Excel spreadsheet is a tuple\n",
    "# Example: (name,age,height,weight,gender,city) is a tuple, a 'record', a special list \n",
    "# Therefore, once a tuple is defined, it cannot be changed\n",
    "\n",
    "a_tuple = (\"Anita\", 25, 155, \"F\", \"Mumbai\") # This is how a tuple is defined\n",
    "a_new_tuple = tuple([\"Anita\", 25, 155, \"F\", \"Mumbai\"]) # It can also be created from a list\n",
    "\n",
    "# Properties of tuples:\n",
    "#   immutable, which means that they cannot be changed after they are created\n",
    "#   iterable, which means that you can loop over them, operating on each element\n",
    "#   indexed, which means that you can access individual elements using square brackets"
   ]
  },
  {
   "cell_type": "code",
   "execution_count": null,
   "metadata": {},
   "outputs": [],
   "source": [
    "# The tuple class is documented at https://docs.python.org/3/library/stdtypes.html#tuples\n",
    "# A number of sequence operators operate on tuples\n",
    "# They are documented at: https://docs.python.org/3/library/stdtypes.html#common-sequence-operations\n",
    "#   these operators are also applicable to lists"
   ]
  },
  {
   "cell_type": "code",
   "execution_count": null,
   "metadata": {},
   "outputs": [],
   "source": [
    "# dict\n",
    "\n",
    "# A dictionary is a collection of 'key-value' pairs.\n",
    "# Again, it is a special kind of list, where items are accessible using keys instead of an index\n",
    "# A dictionary is 'mutable', which means that items in it can be changed\n",
    "# a dictionary is created by collecting together 'key-value' pairs using braces : {key1: value1, key2: value2, ...}\n",
    "#   and items are accessed using the key as a reference\n",
    "\n",
    "a_dict = {\"name\": \"Alia\", \"age\": 25, \"city\": \"Mumbai\"}\n",
    "print(a_dict)\n",
    "print(a_dict[\"name\"])\n",
    "\n",
    "# print(a_dict[0])  # why does this result in an error?\n",
    "\n",
    "# Adding a new 'key - value' pair into the dictionary\n",
    "a_dict[\"gender\"] = \"F\"\n",
    "print(a_dict)\n",
    "\n",
    "# A dictionary is very useful in the following contexts and applications:\n",
    "#   To create a mapping. Eg. Country -> Capital\n",
    "#   To store processed data. Eg. word frequency {\"and\":250, \"the\":100, \"is\":50}\n",
    "#   Configuration settings. Eg. {\"host\":\"localhost\", \"port\":8080}\n",
    "\n",
    "# All this helps in fast retrieval of data"
   ]
  },
  {
   "cell_type": "code",
   "execution_count": null,
   "metadata": {},
   "outputs": [],
   "source": [
    "# dict class is documented at https://docs.python.org/3/library/stdtypes.html#mapping-types-dict\n",
    "# It also lists the built-in and member functions of dictionaries"
   ]
  },
  {
   "cell_type": "code",
   "execution_count": null,
   "metadata": {},
   "outputs": [],
   "source": [
    "# set\n",
    "\n",
    "# A set is a collection of unique items\n",
    "# Again, it is a special kind of dict, with only 'keys'\n",
    "# In a set, there can be no repetition of items\n",
    "# A set is created using braces : {key1, key2, ...}\n",
    "#   and items are accessed using the index as a reference\n",
    "\n",
    "a_set = {1, \"two\", 3.14, True}\n",
    "print(a_set)\n",
    "print(3.14 in a_set)\n",
    "print(3.15 in a_set)\n",
    "\n",
    "# A set is useful wherever it is clear that a collection of items is a mathematical 'set'\n",
    "# and 'set' operations like union, intersection, difference, membership-checks need to be performed\n",
    "# on the collection"
   ]
  },
  {
   "cell_type": "code",
   "execution_count": null,
   "metadata": {},
   "outputs": [],
   "source": [
    "# Some quick examples of sets and operations on sets\n",
    "\n",
    "my_set = {1, 2, 3}  # Using curly braces\n",
    "my_set = set([1, 2, 3])  # Using the set() constructor\n",
    "\n",
    "my_set.add(4)  # Adds a single element\n",
    "my_set.update([5, 6])  # Adds multiple elements. Note the use of a 'list' to add multiple elements\n",
    "\n",
    "my_set.remove(3)  # Removes a specific element\n",
    "my_set.discard(2)  # Removes a specific element (no error if not present)\n",
    "my_set.pop()  # Removes and returns an arbitrary element\n",
    "\n",
    "other_set = {3, 4, 5, 6}\n",
    "my_set.union(other_set)  # Returns a new set with all elements from both sets\n",
    "my_set.intersection(other_set)  # Returns a new set with common elements\n",
    "my_set.difference(other_set)  # Returns a new set with elements in my_set but not in other_set\n",
    "my_set.symmetric_difference(other_set)  # Returns a new set with elements in either set but not both\n",
    "\n",
    "element = 4\n",
    "element in my_set  # Returns True if element is in the set, False otherwise\n",
    "\n",
    "len(my_set)  # Returns the number of elements in the set\n",
    "my_set.clear()  # Removes all elements from the set"
   ]
  },
  {
   "cell_type": "code",
   "execution_count": null,
   "metadata": {},
   "outputs": [],
   "source": [
    "# That's it, in this module\n",
    "# While we have covered the basic data like strings, numbers, lists, tuples, and dicts\n",
    "# We need to also understand the basic program structure to really get going with Python\n",
    "# That will be the goal of the next unit"
   ]
  }
 ],
 "metadata": {
  "kernelspec": {
   "display_name": "Python 3 (ipykernel)",
   "language": "python",
   "name": "python3"
  },
  "language_info": {
   "codemirror_mode": {
    "name": "ipython",
    "version": 3
   },
   "file_extension": ".py",
   "mimetype": "text/x-python",
   "name": "python",
   "nbconvert_exporter": "python",
   "pygments_lexer": "ipython3",
   "version": "3.9.16"
  }
 },
 "nbformat": 4,
 "nbformat_minor": 2
}
