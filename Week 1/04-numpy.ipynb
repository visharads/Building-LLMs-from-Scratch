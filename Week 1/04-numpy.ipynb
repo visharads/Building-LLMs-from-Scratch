{
  "cells": [
    {
      "cell_type": "markdown",
      "metadata": {
        "id": "hoQfZPFraGGn"
      },
      "source": [
        "# NumPy Tutorial\n",
        "\n",
        "(Notebook authors: Prabhat and Sarvesh) \n",
        "\n",
        "NumPy is one of the fundamental package for scientific computing in Python. It is a Python library that provides a multidimensional array object, various derived objects (such as masked arrays and matrices), and an assortment of routines for fast operations on arrays, including mathematical, logical, shape manipulation, sorting, selecting, I/O, discrete Fourier transforms, basic linear algebra, basic statistical operations, random simulation and much more. In this tutorial we will be covering some of the basic concepts in numpy such as arrays and its operations, a few mathematical functions, and sampling random numbers from some widely used probability distributions.\n",
        "\n",
        "You can find the documentation for the latest stable NumPy version [here](https://numpy.org/doc/stable/), and more resources for learning NumPy [here](https://numpy.org/learn/)."
      ]
    },
    {
      "cell_type": "markdown",
      "metadata": {
        "id": "0WSin2nH4PvB"
      },
      "source": [
        "#NumPy Overview"
      ]
    },
    {
      "cell_type": "code",
      "execution_count": 1,
      "metadata": {
        "colab": {
          "base_uri": "https://localhost:8080/"
        },
        "id": "uFaX_n6p41DR",
        "outputId": "d0307f16-4eb1-4e17-abcf-485f054b8d4c"
      },
      "outputs": [
        {
          "name": "stdout",
          "output_type": "stream",
          "text": [
            "2.3.1\n"
          ]
        }
      ],
      "source": [
        "# Do you know which version of numpy are you using?\n",
        "# Why is it important to know that? Answer it yourself with the reason.\n",
        "\n",
        "import numpy as np\n",
        "print(np.__version__)"
      ]
    },
    {
      "cell_type": "code",
      "execution_count": 2,
      "metadata": {
        "colab": {
          "base_uri": "https://localhost:8080/"
        },
        "id": "F8jLndud4vn4",
        "outputId": "e1841e99-7989-4af9-aef9-7112c2412871"
      },
      "outputs": [],
      "source": [
        "# Is it necessary to always use \"np\" as an alias for numpy? Uncomment the line below and check it out\n",
        "\n",
        "# import numpy as a\n",
        "# print(a.array([1]))"
      ]
    },
    {
      "cell_type": "markdown",
      "metadata": {
        "id": "TBllsqCHnSMx"
      },
      "source": [
        "## Arrays\n",
        "\n",
        "NumPy works with \"multidimensional homogeneous arrays\", which are\n",
        "multidimensional tensors containing elements of the same data type.\n",
        "\n",
        "Two dimensional arrays are similar to matrices that we are familiar with,\n",
        "whereas higher dimensional arrays are analogous to tensors from linear algebra."
      ]
    },
    {
      "cell_type": "code",
      "execution_count": 3,
      "metadata": {
        "colab": {
          "base_uri": "https://localhost:8080/"
        },
        "id": "6ksC7b_FnQuo",
        "outputId": "1991bea2-7d42-421c-c6ec-5b2dccaafe95"
      },
      "outputs": [
        {
          "name": "stdout",
          "output_type": "stream",
          "text": [
            "[1 2 3 4 5] [5. 6. 7. 8.] [0 1 2 3] \n",
            "-----\n",
            "[[1 2]\n",
            " [3 4]] \n",
            "-----\n",
            "[0 1 2 3 4 5]\n"
          ]
        }
      ],
      "source": [
        "# You can create a numpy array using an iterable (eg: lists, tuples)\n",
        "\n",
        "arr1 = np.array([1,2,3,4,5])                # Using a list\n",
        "arr2 = np.array((5,6,7,8), dtype=float)     # Using a tuple (data type float)\n",
        "arr3 = np.array(range(4))                   # Using a 'range' object\n",
        "arr4 = np.array([[1,2],[3,4]])              # Using a list of lists to create a 2D array\n",
        "print(arr1, arr2, arr3,\"\\n-----\")\n",
        "print(arr4,\"\\n-----\")\n",
        "\n",
        "# NumPy also has inbuilt functions to create arrays\n",
        "arr5 = np.arange(6)\n",
        "print(arr5)"
      ]
    },
    {
      "cell_type": "code",
      "execution_count": 4,
      "metadata": {},
      "outputs": [],
      "source": [
        "# Q: Can you create arrays of non numerial types? Like strings? Try it!\n",
        "# If you can, what can you do with such arrays?\n",
        "\n",
        "# Q: Can you create an array of mixed types? Try it! WHat happens to the elements of the array?\n",
        "# What can you conclude from this?"
      ]
    },
    {
      "cell_type": "code",
      "execution_count": 5,
      "metadata": {
        "colab": {
          "base_uri": "https://localhost:8080/"
        },
        "id": "mItBorNKvjLV",
        "outputId": "4ec108b0-8b2f-4fed-bf2b-1d724a1d7720"
      },
      "outputs": [
        {
          "data": {
            "text/plain": [
              "numpy.ndarray"
            ]
          },
          "execution_count": 5,
          "metadata": {},
          "output_type": "execute_result"
        }
      ],
      "source": [
        "# Remember, everything in python is an object, which means that the numpy array\n",
        "# is also an object. You can see what type of object it is by using the\n",
        "# type() function\n",
        "type(arr1)"
      ]
    },
    {
      "cell_type": "code",
      "execution_count": 6,
      "metadata": {
        "colab": {
          "base_uri": "https://localhost:8080/"
        },
        "id": "_vNBWKGpPEpw",
        "outputId": "4590dadf-6c3a-4be0-f08d-f2f6259ff12d"
      },
      "outputs": [
        {
          "data": {
            "text/plain": [
              "dtype('int64')"
            ]
          },
          "execution_count": 6,
          "metadata": {},
          "output_type": "execute_result"
        }
      ],
      "source": [
        "# numpy.ndarray is a homogeneous array, which means every array has a\n",
        "# particular data type. What datatype does \"arr1\" have?\n",
        "arr1.dtype"
      ]
    },
    {
      "cell_type": "code",
      "execution_count": 7,
      "metadata": {
        "colab": {
          "base_uri": "https://localhost:8080/"
        },
        "id": "dIQrBD4SQEUX",
        "outputId": "acce4b82-fa6b-4d32-a977-7b41b5831afd"
      },
      "outputs": [
        {
          "data": {
            "text/plain": [
              "(2, 2)"
            ]
          },
          "execution_count": 7,
          "metadata": {},
          "output_type": "execute_result"
        }
      ],
      "source": [
        "# You can check the number of dimensions of a numpy array by using the \"shape\" attribute of the array\n",
        "arr4.shape"
      ]
    },
    {
      "cell_type": "code",
      "execution_count": 8,
      "metadata": {
        "colab": {
          "base_uri": "https://localhost:8080/"
        },
        "id": "w7fqrICeQZNC",
        "outputId": "ca50b572-2451-4f49-889e-de01380bca98"
      },
      "outputs": [
        {
          "name": "stdout",
          "output_type": "stream",
          "text": [
            "[[0 1]\n",
            " [2 3]\n",
            " [4 5]]\n"
          ]
        }
      ],
      "source": [
        "# You can change the shape of an array using the \"reshape\" method.\n",
        "arr6 = arr5.reshape(3,2)\n",
        "print(arr6)"
      ]
    },
    {
      "cell_type": "code",
      "execution_count": 9,
      "metadata": {},
      "outputs": [
        {
          "name": "stdout",
          "output_type": "stream",
          "text": [
            "[[0 3]\n",
            " [1 4]\n",
            " [2 5]]\n"
          ]
        }
      ],
      "source": [
        "# Note that the default behaviour of 'reshape' is to arrange the values row-wise\n",
        "# It is also possible to arrange the values column-wise as well\n",
        "arr6 = arr5.reshape(3,2,order='F')\n",
        "print(arr6)"
      ]
    },
    {
      "cell_type": "code",
      "execution_count": 10,
      "metadata": {
        "id": "99cYx7qrSRDZ"
      },
      "outputs": [],
      "source": [
        "# What's the easiest way to create an array with shape (2,5) that returns\n",
        "# the same array as the statement below? (Hint: Use the \"numpy.arange\" function)\n",
        "#np.array([[1,2,3,4,5],[6,7,8,9,10]])\n",
        "\n",
        "# Write code below:\n"
      ]
    },
    {
      "cell_type": "code",
      "execution_count": 11,
      "metadata": {
        "id": "g5OPTdbFTtXk"
      },
      "outputs": [],
      "source": [
        "# numpy has some convenient functions to create certain special arrays ...\n",
        "# How would you create a numpy array with shape (3,10) that contains all 0's?\n",
        "# Write code below:\n"
      ]
    },
    {
      "cell_type": "code",
      "execution_count": 12,
      "metadata": {},
      "outputs": [
        {
          "data": {
            "text/plain": [
              "array([0.01      , 0.02795918, 0.04591837, 0.06387755, 0.08183673,\n",
              "       0.09979592, 0.1177551 , 0.13571429, 0.15367347, 0.17163265,\n",
              "       0.18959184, 0.20755102, 0.2255102 , 0.24346939, 0.26142857,\n",
              "       0.27938776, 0.29734694, 0.31530612, 0.33326531, 0.35122449,\n",
              "       0.36918367, 0.38714286, 0.40510204, 0.42306122, 0.44102041,\n",
              "       0.45897959, 0.47693878, 0.49489796, 0.51285714, 0.53081633,\n",
              "       0.54877551, 0.56673469, 0.58469388, 0.60265306, 0.62061224,\n",
              "       0.63857143, 0.65653061, 0.6744898 , 0.69244898, 0.71040816,\n",
              "       0.72836735, 0.74632653, 0.76428571, 0.7822449 , 0.80020408,\n",
              "       0.81816327, 0.83612245, 0.85408163, 0.87204082, 0.89      ])"
            ]
          },
          "execution_count": 12,
          "metadata": {},
          "output_type": "execute_result"
        }
      ],
      "source": [
        "# A very useful function to create a special array ... \n",
        "\n",
        "# numpy.linspace is a function provided by the NumPy library that generates \n",
        "# an array of evenly spaced numbers over a specified interval. It is particularly useful \n",
        "# for creating numerical sequences for simulations, visualizations, and other applications \n",
        "# that require regularly spaced intervals.\n",
        "\n",
        "start = 0.01\n",
        "stop = 0.89\n",
        "np.linspace(start, stop, num=50, endpoint=True, retstep=False, dtype=None, axis=0)"
      ]
    },
    {
      "cell_type": "markdown",
      "metadata": {
        "id": "L_TKCpn8UNrA"
      },
      "source": [
        "### Slicing arrays"
      ]
    },
    {
      "cell_type": "code",
      "execution_count": 13,
      "metadata": {
        "colab": {
          "base_uri": "https://localhost:8080/"
        },
        "id": "4avVIZA_URiw",
        "outputId": "2091ec34-d036-4f70-825b-fde5875aa8fc"
      },
      "outputs": [
        {
          "name": "stdout",
          "output_type": "stream",
          "text": [
            "[1 2 3 4 5]\n",
            "[1 2 3 4 5]\n",
            "[1 2 3 4]\n",
            "[1 2 3 4]\n",
            "[1 3]\n",
            "[5 4 3 2 1]\n"
          ]
        }
      ],
      "source": [
        "# Akin to a regular list, we can slice numpy arrays as well, in various ways\n",
        "# Note that indexing starts at 0 and not 1, and that the last index is not included\n",
        "\n",
        "print(arr1)\n",
        "print(arr1[0:5])\n",
        "print(arr1[0:4])\n",
        "print(arr1[0:4:1])\n",
        "print(arr1[0:4:2])\n",
        "print(arr1[::-1])"
      ]
    },
    {
      "cell_type": "code",
      "execution_count": 14,
      "metadata": {
        "colab": {
          "base_uri": "https://localhost:8080/"
        },
        "id": "of3S70VQUfQg",
        "outputId": "c5a2c235-cf7a-4904-8bfb-b84beef1b201"
      },
      "outputs": [
        {
          "name": "stdout",
          "output_type": "stream",
          "text": [
            "[[ 0  1  2  3  4  5]\n",
            " [ 6  7  8  9 10 11]\n",
            " [12 13 14 15 16 17]\n",
            " [18 19 20 21 22 23]\n",
            " [24 25 26 27 28 29]\n",
            " [30 31 32 33 34 35]]\n",
            "[[ 8  9 10]\n",
            " [14 15 16]\n",
            " [20 21 22]]\n"
          ]
        }
      ],
      "source": [
        "# Unlike regular lists, we can slice multi-dimensional arrays as well\n",
        "arr = np.arange(36).reshape(6,6)\n",
        "print(arr)\n",
        "print(arr[1:4,2:5])"
      ]
    },
    {
      "cell_type": "markdown",
      "metadata": {
        "id": "qWPg8vmUWKc6"
      },
      "source": [
        "### Copies\n"
      ]
    },
    {
      "cell_type": "code",
      "execution_count": 15,
      "metadata": {
        "colab": {
          "base_uri": "https://localhost:8080/"
        },
        "id": "HZ0suuXgWMSv",
        "outputId": "50d0b2de-d0f4-4216-d236-54e005836f2e"
      },
      "outputs": [
        {
          "name": "stdout",
          "output_type": "stream",
          "text": [
            "[0 1 2 3 4 5]\n",
            "[0 1 2 3 4 5]\n",
            "[  0   1 100   3   4   5]\n",
            "[  0   1 100   3   4   5]\n"
          ]
        }
      ],
      "source": [
        "# What happens when you assign an array to a new variable?\n",
        "\n",
        "arr = np.arange(6)\n",
        "print(arr)\n",
        "\n",
        "new_arr = arr\n",
        "print(new_arr)\n",
        "\n",
        "new_arr[2] = 100          # Here we are changing a value in new_arr only,  but ...\n",
        "\n",
        "print(arr)\n",
        "print(new_arr)"
      ]
    },
    {
      "cell_type": "code",
      "execution_count": 16,
      "metadata": {
        "colab": {
          "base_uri": "https://localhost:8080/"
        },
        "id": "KF4J5-2iWxNG",
        "outputId": "ba663a02-2c5d-44aa-b378-b4faf8422dfd"
      },
      "outputs": [
        {
          "name": "stdout",
          "output_type": "stream",
          "text": [
            "[0 1 2 3 4 5] [  0   1 100   3   4   5]\n"
          ]
        }
      ],
      "source": [
        "# Why did \"arr\" also change when only new_arr was changed?\n",
        "# Because \"new_arr = arr\" was execcuted, the pointer to the array object that\n",
        "# \"arr\" contains, was also assigned to \"new_arr\"\n",
        "\n",
        "# To create a new copy of the array, use the \"copy()\" method\n",
        "arr = np.arange(6)\n",
        "new_arr = arr.copy()\n",
        "\n",
        "new_arr[2] = 100          #changing new_arr but not changing arr\n",
        "print(arr, new_arr)"
      ]
    },
    {
      "cell_type": "markdown",
      "metadata": {
        "id": "M7791sTlTJ9w"
      },
      "source": [
        "## Mathematical Operations"
      ]
    },
    {
      "cell_type": "code",
      "execution_count": 17,
      "metadata": {
        "colab": {
          "base_uri": "https://localhost:8080/"
        },
        "id": "wsnjeFXW41wI",
        "outputId": "f44be23d-cbe0-4797-c92c-6223d6179443"
      },
      "outputs": [
        {
          "name": "stdout",
          "output_type": "stream",
          "text": [
            "15\n"
          ]
        }
      ],
      "source": [
        "# You can calculate the sum of all the elements in an array using np.sum()\n",
        "print(np.sum(arr1))"
      ]
    },
    {
      "cell_type": "code",
      "execution_count": 18,
      "metadata": {
        "colab": {
          "base_uri": "https://localhost:8080/"
        },
        "id": "HkX092xLv1FK",
        "outputId": "1fc47173-d95f-4a49-de93-f4a531229870"
      },
      "outputs": [
        {
          "name": "stdout",
          "output_type": "stream",
          "text": [
            "15\n"
          ]
        }
      ],
      "source": [
        "# The numpy.ndarray object has many methods (member functions).\n",
        "# Another way to calculate the sum of an array using one of these methods.\n",
        "print(arr1.sum())"
      ]
    },
    {
      "cell_type": "code",
      "execution_count": 19,
      "metadata": {
        "colab": {
          "base_uri": "https://localhost:8080/"
        },
        "id": "cm7zXJI_y0_d",
        "outputId": "5c06f54e-9936-44c9-9d17-c0e425ce83ea"
      },
      "outputs": [
        {
          "name": "stdout",
          "output_type": "stream",
          "text": [
            "3.0\n",
            "1.4142135623730951\n"
          ]
        }
      ],
      "source": [
        "# There are many aggregate operations you can run on numpy arrays other than\n",
        "# the sum() method.\n",
        "\n",
        "print(arr1.mean()) #calculate mean\n",
        "print(arr1.std()) #calculate standard deviation\n"
      ]
    },
    {
      "cell_type": "code",
      "execution_count": 20,
      "metadata": {
        "colab": {
          "base_uri": "https://localhost:8080/"
        },
        "id": "ivj-pCl7Y9-6",
        "outputId": "68c1e383-eacc-495f-bd65-94fa9a79219e"
      },
      "outputs": [
        {
          "name": "stdout",
          "output_type": "stream",
          "text": [
            "1\n",
            "5\n"
          ]
        }
      ],
      "source": [
        "# Let's now calculate the minimum and the maximum values\n",
        "\n",
        "print(arr1.min())\n",
        "print(arr1.max())"
      ]
    },
    {
      "cell_type": "code",
      "execution_count": 22,
      "metadata": {
        "colab": {
          "base_uri": "https://localhost:8080/"
        },
        "id": "L2aFSAcjZTHw",
        "outputId": "89c4d49e-da0e-424c-e9b1-fc74daef8903"
      },
      "outputs": [
        {
          "name": "stdout",
          "output_type": "stream",
          "text": [
            "[0 1 2 3] [0 1 4 9]\n"
          ]
        }
      ],
      "source": [
        "# All basic operators like +,-,*,/ perform element-wise operations\n",
        "# when dealing with arrays of the same shape\n",
        "arr = np.arange(4)\n",
        "print(arr, arr*arr)"
      ]
    },
    {
      "cell_type": "code",
      "execution_count": 23,
      "metadata": {
        "id": "sLfVyusyhn9K"
      },
      "outputs": [],
      "source": [
        "# How to obtain an array that has the squares of each element in \"arr\"?\n",
        "# Type code below:\n"
      ]
    },
    {
      "cell_type": "code",
      "execution_count": 24,
      "metadata": {},
      "outputs": [
        {
          "name": "stdout",
          "output_type": "stream",
          "text": [
            "[[ 0  1  2  3  4  5]\n",
            " [ 6  7  8  9 10 11]\n",
            " [12 13 14 15 16 17]\n",
            " [18 19 20 21 22 23]\n",
            " [24 25 26 27 28 29]\n",
            " [30 31 32 33 34 35]] \n",
            "-----\n",
            "[ 90  96 102 108 114 120] \n",
            "-----\n",
            "[ 15  51  87 123 159 195]\n"
          ]
        }
      ],
      "source": [
        "# In the case of multi-dimensional arrays, the above functions can take an additional parameter 'axis'\n",
        "# to define the dimension along which the operation is to be performed. For example\n",
        "arr = np.arange(36).reshape(6,6)\n",
        "print(arr,\"\\n-----\")\n",
        "\n",
        "print(arr.sum(axis=0),\"\\n-----\")    #sum of each column\n",
        "print(arr.sum(axis=1))              #sum of each row"
      ]
    },
    {
      "cell_type": "markdown",
      "metadata": {
        "id": "QXJLMGnDivrE"
      },
      "source": [
        "## Vector and Matrix operations"
      ]
    },
    {
      "cell_type": "markdown",
      "metadata": {
        "id": "92xfN5kD5IVW"
      },
      "source": [
        "You can calculate the dot product between two vectors using `numpy.dot()`."
      ]
    },
    {
      "cell_type": "code",
      "execution_count": 25,
      "metadata": {
        "colab": {
          "base_uri": "https://localhost:8080/"
        },
        "id": "AHymGYGii0gD",
        "outputId": "fe19b31b-f7bd-4d44-ef77-374e4c07b84b"
      },
      "outputs": [
        {
          "name": "stdout",
          "output_type": "stream",
          "text": [
            "[0 1 2 3]\n",
            "[3 4 5 6]\n",
            "32\n"
          ]
        }
      ],
      "source": [
        "arr1 = np.arange(4)\n",
        "arr2 = arr1 + 3\n",
        "print(arr1)\n",
        "print(arr2)\n",
        "\n",
        "print(np.dot(arr1, arr2))"
      ]
    },
    {
      "cell_type": "markdown",
      "metadata": {
        "id": "mK0GOSGG5wHP"
      },
      "source": [
        "What happens when you run `numpy.dot()` on 2 matrices?"
      ]
    },
    {
      "cell_type": "code",
      "execution_count": 26,
      "metadata": {
        "colab": {
          "base_uri": "https://localhost:8080/"
        },
        "id": "4DdI91uL59m6",
        "outputId": "6add49b2-18b1-47f2-a999-82072ba82331"
      },
      "outputs": [
        {
          "name": "stdout",
          "output_type": "stream",
          "text": [
            "[[0 1]\n",
            " [2 3]\n",
            " [4 5]] \n",
            "-----\n",
            "[[1. 1. 1.]\n",
            " [1. 1. 1.]] \n",
            "-----\n",
            "[[1. 1. 1.]\n",
            " [5. 5. 5.]\n",
            " [9. 9. 9.]] \n",
            "-----\n",
            "[[1. 1. 1.]\n",
            " [5. 5. 5.]\n",
            " [9. 9. 9.]] \n",
            "-----\n",
            "[[1. 1. 1.]\n",
            " [5. 5. 5.]\n",
            " [9. 9. 9.]]\n"
          ]
        }
      ],
      "source": [
        "arr1 = np.arange(6).reshape(3,2)\n",
        "arr2 = np.ones((2,3))\n",
        "print(arr1,\"\\n-----\")\n",
        "print(arr2,\"\\n-----\")\n",
        "\n",
        "# The following lines are all equivalent, they all calculate the dot product of the two arrays\n",
        "print(np.dot(arr1,arr2),\"\\n-----\")\n",
        "print(arr1.dot(arr2),\"\\n-----\")\n",
        "print(arr1 @ arr2)"
      ]
    },
    {
      "cell_type": "code",
      "execution_count": 27,
      "metadata": {
        "id": "3CZ_BmSkigaR"
      },
      "outputs": [
        {
          "name": "stdout",
          "output_type": "stream",
          "text": [
            "[[0 1 2]\n",
            " [3 4 5]] \n",
            "-----\n",
            "[[ 0  1  2]\n",
            " [ 3  4  5]\n",
            " [ 6  7  8]\n",
            " [ 9 10 11]] \n",
            "-----\n"
          ]
        },
        {
          "ename": "ValueError",
          "evalue": "matmul: Input operand 1 has a mismatch in its core dimension 0, with gufunc signature (n?,k),(k,m?)->(n?,m?) (size 4 is different from 3)",
          "output_type": "error",
          "traceback": [
            "\u001b[31m---------------------------------------------------------------------------\u001b[39m",
            "\u001b[31mValueError\u001b[39m                                Traceback (most recent call last)",
            "\u001b[36mCell\u001b[39m\u001b[36m \u001b[39m\u001b[32mIn[27]\u001b[39m\u001b[32m, line 6\u001b[39m\n\u001b[32m      4\u001b[39m \u001b[38;5;28mprint\u001b[39m(arr1,\u001b[33m\"\u001b[39m\u001b[38;5;130;01m\\n\u001b[39;00m\u001b[33m-----\u001b[39m\u001b[33m\"\u001b[39m)\n\u001b[32m      5\u001b[39m \u001b[38;5;28mprint\u001b[39m(arr2,\u001b[33m\"\u001b[39m\u001b[38;5;130;01m\\n\u001b[39;00m\u001b[33m-----\u001b[39m\u001b[33m\"\u001b[39m)\n\u001b[32m----> \u001b[39m\u001b[32m6\u001b[39m \u001b[38;5;28mprint\u001b[39m(\u001b[43marr1\u001b[49m\u001b[43m \u001b[49m\u001b[43m@\u001b[49m\u001b[43m \u001b[49m\u001b[43marr2\u001b[49m)\n",
            "\u001b[31mValueError\u001b[39m: matmul: Input operand 1 has a mismatch in its core dimension 0, with gufunc signature (n?,k),(k,m?)->(n?,m?) (size 4 is different from 3)"
          ]
        }
      ],
      "source": [
        "# What happens when the following code is run?\n",
        "arr1 = np.arange(6).reshape(2,3)\n",
        "arr2 = np.arange(12).reshape(4,3)\n",
        "print(arr1,\"\\n-----\")\n",
        "print(arr2,\"\\n-----\")\n",
        "print(arr1 @ arr2)"
      ]
    },
    {
      "cell_type": "code",
      "execution_count": 30,
      "metadata": {
        "colab": {
          "base_uri": "https://localhost:8080/"
        },
        "id": "wSuV5WIlj1qN",
        "outputId": "5fc81504-5830-419e-e28d-c2a8276f2586"
      },
      "outputs": [
        {
          "name": "stdout",
          "output_type": "stream",
          "text": [
            "[[0 1 2]\n",
            " [3 4 5]] \n",
            "-----\n",
            "[[ 0  3  6  9]\n",
            " [ 1  4  7 10]\n",
            " [ 2  5  8 11]] \n",
            "-----\n",
            "[[  5  14  23  32]\n",
            " [ 14  50  86 122]] \n",
            "-----\n",
            "[[  5  14  23  32]\n",
            " [ 14  50  86 122]]\n",
            "[[ 0  1  2]\n",
            " [ 3  4  5]\n",
            " [ 6  7  8]\n",
            " [ 9 10 11]]\n"
          ]
        }
      ],
      "source": [
        "# As you might have guessed, the matrix dimensions are not conducive for matrix multiplication\n",
        "# One has to often 'transpose' a matrix prior to carrying out operations like multiplication\n",
        "# This can be done by a method `.T` as shown below\n",
        "# We can also use the `np.transpose()` function to acheive the same result\n",
        "\n",
        "print(arr1,\"\\n-----\")       # 2 x 3 matrix\n",
        "print(arr2.T,\"\\n-----\")     # 3 x 4 matrix\n",
        "print(arr1 @ arr2.T,\"\\n-----\")          # Now there will be no error\n",
        "print(arr1 @ np.transpose(arr2))        # Same effect as the above statement\n",
        "print(arr2)"
      ]
    },
    {
      "cell_type": "code",
      "execution_count": 31,
      "metadata": {
        "colab": {
          "base_uri": "https://localhost:8080/"
        },
        "id": "SKJqcd20kTDZ",
        "outputId": "06ec9b84-af78-4348-e0e7-c4dd45a5f3f1"
      },
      "outputs": [
        {
          "name": "stdout",
          "output_type": "stream",
          "text": [
            "[[0 1 2]\n",
            " [3 4 5]\n",
            " [6 7 8]] \n",
            "-----\n",
            "0.0\n"
          ]
        }
      ],
      "source": [
        "# Let's look into some standard operations that can be performed on square matrices. \n",
        "# You can obtain the determinant of a square matrix by using the `np.linalg.det()` function\n",
        "\n",
        "arr1 = np.arange(9).reshape(3,3)\n",
        "print(arr1,\"\\n-----\")\n",
        "print(np.linalg.det(arr1))"
      ]
    },
    {
      "cell_type": "code",
      "execution_count": 32,
      "metadata": {
        "id": "3UcJnEZklhCh"
      },
      "outputs": [
        {
          "ename": "LinAlgError",
          "evalue": "Singular matrix",
          "output_type": "error",
          "traceback": [
            "\u001b[31m---------------------------------------------------------------------------\u001b[39m",
            "\u001b[31mLinAlgError\u001b[39m                               Traceback (most recent call last)",
            "\u001b[36mCell\u001b[39m\u001b[36m \u001b[39m\u001b[32mIn[32]\u001b[39m\u001b[32m, line 4\u001b[39m\n\u001b[32m      1\u001b[39m \u001b[38;5;66;03m# You can use the `np.linalg.inv()` function to calculate the inverse of a\u001b[39;00m\n\u001b[32m      2\u001b[39m \u001b[38;5;66;03m# square matrix. What will happen when you run the following code?\u001b[39;00m\n\u001b[32m----> \u001b[39m\u001b[32m4\u001b[39m \u001b[38;5;28mprint\u001b[39m(\u001b[43mnp\u001b[49m\u001b[43m.\u001b[49m\u001b[43mlinalg\u001b[49m\u001b[43m.\u001b[49m\u001b[43minv\u001b[49m\u001b[43m(\u001b[49m\u001b[43marr1\u001b[49m\u001b[43m)\u001b[49m)\n",
            "\u001b[36mFile \u001b[39m\u001b[32mc:\\Users\\visha\\SoC 2025\\Building-LLMs-from-Scratch\\.venv\\Lib\\site-packages\\numpy\\linalg\\_linalg.py:669\u001b[39m, in \u001b[36minv\u001b[39m\u001b[34m(a)\u001b[39m\n\u001b[32m    666\u001b[39m signature = \u001b[33m'\u001b[39m\u001b[33mD->D\u001b[39m\u001b[33m'\u001b[39m \u001b[38;5;28;01mif\u001b[39;00m isComplexType(t) \u001b[38;5;28;01melse\u001b[39;00m \u001b[33m'\u001b[39m\u001b[33md->d\u001b[39m\u001b[33m'\u001b[39m\n\u001b[32m    667\u001b[39m \u001b[38;5;28;01mwith\u001b[39;00m errstate(call=_raise_linalgerror_singular, invalid=\u001b[33m'\u001b[39m\u001b[33mcall\u001b[39m\u001b[33m'\u001b[39m,\n\u001b[32m    668\u001b[39m               over=\u001b[33m'\u001b[39m\u001b[33mignore\u001b[39m\u001b[33m'\u001b[39m, divide=\u001b[33m'\u001b[39m\u001b[33mignore\u001b[39m\u001b[33m'\u001b[39m, under=\u001b[33m'\u001b[39m\u001b[33mignore\u001b[39m\u001b[33m'\u001b[39m):\n\u001b[32m--> \u001b[39m\u001b[32m669\u001b[39m     ainv = \u001b[43m_umath_linalg\u001b[49m\u001b[43m.\u001b[49m\u001b[43minv\u001b[49m\u001b[43m(\u001b[49m\u001b[43ma\u001b[49m\u001b[43m,\u001b[49m\u001b[43m \u001b[49m\u001b[43msignature\u001b[49m\u001b[43m=\u001b[49m\u001b[43msignature\u001b[49m\u001b[43m)\u001b[49m\n\u001b[32m    670\u001b[39m \u001b[38;5;28;01mreturn\u001b[39;00m wrap(ainv.astype(result_t, copy=\u001b[38;5;28;01mFalse\u001b[39;00m))\n",
            "\u001b[36mFile \u001b[39m\u001b[32mc:\\Users\\visha\\SoC 2025\\Building-LLMs-from-Scratch\\.venv\\Lib\\site-packages\\numpy\\linalg\\_linalg.py:163\u001b[39m, in \u001b[36m_raise_linalgerror_singular\u001b[39m\u001b[34m(err, flag)\u001b[39m\n\u001b[32m    162\u001b[39m \u001b[38;5;28;01mdef\u001b[39;00m\u001b[38;5;250m \u001b[39m\u001b[34m_raise_linalgerror_singular\u001b[39m(err, flag):\n\u001b[32m--> \u001b[39m\u001b[32m163\u001b[39m     \u001b[38;5;28;01mraise\u001b[39;00m LinAlgError(\u001b[33m\"\u001b[39m\u001b[33mSingular matrix\u001b[39m\u001b[33m\"\u001b[39m)\n",
            "\u001b[31mLinAlgError\u001b[39m: Singular matrix"
          ]
        }
      ],
      "source": [
        "# You can use the `np.linalg.inv()` function to calculate the inverse of a\n",
        "# square matrix. What will happen when you run the following code?\n",
        "\n",
        "print(np.linalg.inv(arr1))"
      ]
    },
    {
      "cell_type": "code",
      "execution_count": 33,
      "metadata": {
        "id": "Tzl7uJynlP5h"
      },
      "outputs": [],
      "source": [
        "# Q: What changes will you make to the above matrix to make it invertible?\n",
        "# Try it out here ...\n",
        "\n",
        "# What do you think will be the output if we try finding a determinant and\n",
        "# inverse for a rectangular matrix? Do try it out.\n",
        "# Write code here:"
      ]
    },
    {
      "cell_type": "code",
      "execution_count": 34,
      "metadata": {
        "colab": {
          "base_uri": "https://localhost:8080/"
        },
        "id": "AfztzbUlqVHC",
        "outputId": "52ddf91b-43fd-4530-e589-ee7cd2924edc"
      },
      "outputs": [
        {
          "name": "stdout",
          "output_type": "stream",
          "text": [
            "Eigen values are [ 1.61168440e+01 -1.11684397e+00 -9.75918483e-16]\n",
            "Eigen vectors are \n",
            " [[-0.23197069 -0.78583024  0.40824829]\n",
            " [-0.52532209 -0.08675134 -0.81649658]\n",
            " [-0.8186735   0.61232756  0.40824829]]\n"
          ]
        }
      ],
      "source": [
        "# Now let's find out the eigen values and vectors of the matrix\n",
        "\n",
        "mat = np.arange(1,10).reshape(3,3)\n",
        "eigen_value, eigen_vector = np.linalg.eig(mat)\n",
        "\n",
        "print(f\"Eigen values are {eigen_value}\")\n",
        "print(f\"Eigen vectors are \\n {eigen_vector}\")"
      ]
    },
    {
      "cell_type": "markdown",
      "metadata": {
        "id": "TWDkeV_wV-Hg"
      },
      "source": [
        "## Broadcasting arrays\n",
        "![](https://numpy.org/doc/stable/_images/broadcasting_1.png)"
      ]
    },
    {
      "cell_type": "code",
      "execution_count": 35,
      "metadata": {
        "colab": {
          "base_uri": "https://localhost:8080/"
        },
        "id": "_Z5pY9AMV9UJ",
        "outputId": "ca9605c4-5a96-4883-e979-b79ed2076c81"
      },
      "outputs": [
        {
          "name": "stdout",
          "output_type": "stream",
          "text": [
            "[[0 1 2]\n",
            " [3 4 5]\n",
            " [6 7 8]] \n",
            "-----\n",
            "[[ 0  2  4]\n",
            " [ 6  8 10]\n",
            " [12 14 16]] \n",
            "-----\n",
            "[[ 0  1  4]\n",
            " [ 9 16 25]\n",
            " [36 49 64]]\n"
          ]
        }
      ],
      "source": [
        "# Let's see what happens when we multiply a 2D array with\n",
        "# 1) a scalar\n",
        "# 2) a 2D array with the same shape\n",
        "\n",
        "arr = np.arange(9).reshape(3,3)\n",
        "print(arr,\"\\n-----\")\n",
        "\n",
        "print(arr*2,\"\\n-----\")  # Scalar multiplication\n",
        "print(arr*arr)          # Element-wise multiplication"
      ]
    },
    {
      "cell_type": "code",
      "execution_count": 36,
      "metadata": {
        "colab": {
          "base_uri": "https://localhost:8080/"
        },
        "id": "ScGRmdsKYq34",
        "outputId": "26e60080-1b82-4610-91e0-f257774f425a"
      },
      "outputs": [
        {
          "name": "stdout",
          "output_type": "stream",
          "text": [
            "[[0 1 2]\n",
            " [3 4 5]\n",
            " [6 7 8]] \n",
            "-----\n",
            "[0 1 2] \n",
            "-----\n",
            "[[ 0  1  4]\n",
            " [ 0  4 10]\n",
            " [ 0  7 16]]\n"
          ]
        }
      ],
      "source": [
        "# The scalar multiplication is as expected, and the array multiplication\n",
        "# is element-wise, which is also expected. \n",
        "# What would happen when the above array is multiplied with a 1D array?\n",
        "arr2 = np.arange(3)\n",
        "print(arr,\"\\n-----\")\n",
        "print(arr2,\"\\n-----\")\n",
        "\n",
        "print(arr2*arr)"
      ]
    },
    {
      "cell_type": "markdown",
      "metadata": {
        "id": "scBhVsbanooF"
      },
      "source": [
        "What happened here?! To meaningfully perform multiplication, \"arr2\" is\n",
        "transformed (broadcasted) into another array of shape (3,3), after which\n",
        "element wise multiplication is performed. There are 2 rules for broadcasting:\n",
        "1. Identify the array with smaller dimension and increase the dimension\n",
        "  (by prepending \"1\" to the shape) such that it matches the dimension of the\n",
        "  other array.\n",
        "2. Identify arrays of size \"1\" along a dimension and increase the size along\n",
        "   that dimension so that it matches the other array.\n",
        "\n",
        "In the above example, the shape of arr2\n",
        "changed as follows: `(3,) -> (1,3) -> (3,3)`\n",
        "following which element-wise multiplication took place."
      ]
    },
    {
      "cell_type": "code",
      "execution_count": 37,
      "metadata": {
        "colab": {
          "base_uri": "https://localhost:8080/"
        },
        "id": "5xzrD2oOc8Ox",
        "outputId": "054b721b-0671-4c06-b528-685231f53300"
      },
      "outputs": [
        {
          "name": "stdout",
          "output_type": "stream",
          "text": [
            "[[ 0  1  2  3]\n",
            " [ 4  5  6  7]\n",
            " [ 8  9 10 11]] \n",
            "-----\n",
            "[0 1 2 3] \n",
            "-----\n",
            "[[ 0  2  4  6]\n",
            " [ 4  6  8 10]\n",
            " [ 8 10 12 14]]\n"
          ]
        }
      ],
      "source": [
        "# Try to figure out what happens in the following example\n",
        "arr1 = np.arange(12).reshape(3,4)\n",
        "arr2 = np.arange(4)\n",
        "print(arr1,\"\\n-----\")\n",
        "print(arr2,\"\\n-----\")\n",
        "\n",
        "print(arr1+arr2)"
      ]
    },
    {
      "cell_type": "code",
      "execution_count": 38,
      "metadata": {
        "colab": {
          "base_uri": "https://localhost:8080/",
          "height": 283
        },
        "id": "zRlOWsaMebNI",
        "outputId": "5be6cfba-4c3b-4aa9-f71b-e98d58885b8c"
      },
      "outputs": [
        {
          "name": "stdout",
          "output_type": "stream",
          "text": [
            "[[ 0  1  2  3]\n",
            " [ 4  5  6  7]\n",
            " [ 8  9 10 11]] \n",
            "-----\n",
            "[0 1 2] \n",
            "-----\n"
          ]
        },
        {
          "ename": "ValueError",
          "evalue": "operands could not be broadcast together with shapes (3,4) (3,) ",
          "output_type": "error",
          "traceback": [
            "\u001b[31m---------------------------------------------------------------------------\u001b[39m",
            "\u001b[31mValueError\u001b[39m                                Traceback (most recent call last)",
            "\u001b[36mCell\u001b[39m\u001b[36m \u001b[39m\u001b[32mIn[38]\u001b[39m\u001b[32m, line 6\u001b[39m\n\u001b[32m      4\u001b[39m \u001b[38;5;28mprint\u001b[39m(arr1,\u001b[33m\"\u001b[39m\u001b[38;5;130;01m\\n\u001b[39;00m\u001b[33m-----\u001b[39m\u001b[33m\"\u001b[39m)\n\u001b[32m      5\u001b[39m \u001b[38;5;28mprint\u001b[39m(arr2,\u001b[33m\"\u001b[39m\u001b[38;5;130;01m\\n\u001b[39;00m\u001b[33m-----\u001b[39m\u001b[33m\"\u001b[39m)\n\u001b[32m----> \u001b[39m\u001b[32m6\u001b[39m \u001b[38;5;28mprint\u001b[39m(\u001b[43marr1\u001b[49m\u001b[43m+\u001b[49m\u001b[43marr2\u001b[49m)\n",
            "\u001b[31mValueError\u001b[39m: operands could not be broadcast together with shapes (3,4) (3,) "
          ]
        }
      ],
      "source": [
        "# Can you explain why the following code throws an error?\n",
        "arr1 = np.arange(12).reshape(3,4)\n",
        "arr2 = np.arange(3)\n",
        "print(arr1,\"\\n-----\")\n",
        "print(arr2,\"\\n-----\")\n",
        "print(arr1+arr2)"
      ]
    },
    {
      "cell_type": "markdown",
      "metadata": {
        "id": "4IpaaF6ifS9U"
      },
      "source": [
        "**You can read more about broadcasting in the [documentation](https://numpy.org/doc/stable/user/basics.broadcasting.html)**."
      ]
    },
    {
      "cell_type": "markdown",
      "metadata": {
        "id": "KFMvMR1SF3A8"
      },
      "source": [
        "## Comparison Functions"
      ]
    },
    {
      "cell_type": "code",
      "execution_count": 39,
      "metadata": {
        "colab": {
          "base_uri": "https://localhost:8080/",
          "height": 231
        },
        "id": "D0V8AIvnF--w",
        "outputId": "d26589e8-e7e5-4d2a-e27e-9fb562e5d9ef"
      },
      "outputs": [
        {
          "ename": "ValueError",
          "evalue": "The truth value of an array with more than one element is ambiguous. Use a.any() or a.all()",
          "output_type": "error",
          "traceback": [
            "\u001b[31m---------------------------------------------------------------------------\u001b[39m",
            "\u001b[31mValueError\u001b[39m                                Traceback (most recent call last)",
            "\u001b[36mCell\u001b[39m\u001b[36m \u001b[39m\u001b[32mIn[39]\u001b[39m\u001b[32m, line 4\u001b[39m\n\u001b[32m      1\u001b[39m \u001b[38;5;66;03m# Say you want to check whether a numpy array contains any number greater\u001b[39;00m\n\u001b[32m      2\u001b[39m \u001b[38;5;66;03m# than 5. Would a regular python-styled comparison work?\u001b[39;00m\n\u001b[32m      3\u001b[39m arr = np.arange(\u001b[32m8\u001b[39m)\n\u001b[32m----> \u001b[39m\u001b[32m4\u001b[39m \u001b[38;5;28;01mif\u001b[39;00m \u001b[43marr\u001b[49m\u001b[43m \u001b[49m\u001b[43m>\u001b[49m\u001b[43m \u001b[49m\u001b[32;43m5\u001b[39;49m:\n\u001b[32m      5\u001b[39m   \u001b[38;5;28mprint\u001b[39m(\u001b[33m\"\u001b[39m\u001b[33mTrue\u001b[39m\u001b[33m\"\u001b[39m)\n",
            "\u001b[31mValueError\u001b[39m: The truth value of an array with more than one element is ambiguous. Use a.any() or a.all()"
          ]
        }
      ],
      "source": [
        "# Say you want to check whether a numpy array contains any number greater\n",
        "# than 5. Would a regular python-styled comparison work?\n",
        "arr = np.arange(8)\n",
        "if arr > 5:\n",
        "  print(\"True\")"
      ]
    },
    {
      "cell_type": "code",
      "execution_count": 40,
      "metadata": {
        "colab": {
          "base_uri": "https://localhost:8080/"
        },
        "id": "X_UdKO4fGir2",
        "outputId": "647bc1a0-34a7-47af-b57d-90fb0de6f0a3"
      },
      "outputs": [
        {
          "data": {
            "text/plain": [
              "array([False, False, False, False, False, False,  True,  True])"
            ]
          },
          "execution_count": 40,
          "metadata": {},
          "output_type": "execute_result"
        }
      ],
      "source": [
        "# It didn't work! But why didn't it?\n",
        "# Let's try to understand what the > operator does\n",
        "arr > 5"
      ]
    },
    {
      "cell_type": "code",
      "execution_count": 41,
      "metadata": {
        "colab": {
          "base_uri": "https://localhost:8080/"
        },
        "id": "KtTBI_MjGum7",
        "outputId": "8dfb3f42-1564-4349-ab85-0f8f9159f828"
      },
      "outputs": [
        {
          "data": {
            "text/plain": [
              "np.True_"
            ]
          },
          "execution_count": 41,
          "metadata": {},
          "output_type": "execute_result"
        }
      ],
      "source": [
        "# The > operator, like any other comparison operator in numpy, return a boolean\n",
        "# array of the same size. To check if any number in the array is greater than 5\n",
        "# use numpy.any().\n",
        "np.any(arr > 5)"
      ]
    },
    {
      "cell_type": "code",
      "execution_count": 42,
      "metadata": {
        "colab": {
          "base_uri": "https://localhost:8080/"
        },
        "id": "3JB7SOqmHOgG",
        "outputId": "4e3d477b-59b7-4dbb-96a3-bd560b729777"
      },
      "outputs": [
        {
          "data": {
            "text/plain": [
              "np.False_"
            ]
          },
          "execution_count": 42,
          "metadata": {},
          "output_type": "execute_result"
        }
      ],
      "source": [
        "# To check if all the numbers in the array are greater than 5, you can use\n",
        "# numpy.all()\n",
        "np.all(arr > 5)"
      ]
    },
    {
      "cell_type": "code",
      "execution_count": 43,
      "metadata": {
        "colab": {
          "base_uri": "https://localhost:8080/"
        },
        "id": "i-RmxE1FHilS",
        "outputId": "59c93b77-6581-443d-cd23-5d436f5ac7a0"
      },
      "outputs": [
        {
          "name": "stdout",
          "output_type": "stream",
          "text": [
            "[0 1 2 3 4 5 6 7]\n",
            "[False False False False False False  True  True]\n",
            "[6 7]\n"
          ]
        }
      ],
      "source": [
        "# What if you want to see which elements in arr are greater than 5?\n",
        "# You can use the boolean array as an index to index the original array!\n",
        "print(arr)\n",
        "print(arr>5)\n",
        "print(arr[arr > 5])"
      ]
    },
    {
      "cell_type": "code",
      "execution_count": 44,
      "metadata": {
        "id": "MQMx5wW7IBtb"
      },
      "outputs": [],
      "source": [
        "# Say you want to create a new array arr2 which has the same size as arr,\n",
        "# but all the elements less than or equal to 5 are replaced by 5. How would\n",
        "# you create such an array? (Hint: can you assigned values to indexed arrays?)\n",
        "\n",
        "# Write code here:\n"
      ]
    },
    {
      "cell_type": "markdown",
      "metadata": {},
      "source": [
        "## Constants"
      ]
    },
    {
      "cell_type": "code",
      "execution_count": 45,
      "metadata": {},
      "outputs": [
        {
          "name": "stdout",
          "output_type": "stream",
          "text": [
            "inf 2.718281828459045 3.141592653589793\n"
          ]
        }
      ],
      "source": [
        "# A number of oft used constants are defined in the numpy package\n",
        "# These include numpy.inf, numpy.e, numpy.pi\n",
        "\n",
        "print(np.inf, np.e, np.pi)\n",
        "\n",
        "# numpy constants are documented at: https://numpy.org/doc/stable/reference/constants.html"
      ]
    },
    {
      "cell_type": "markdown",
      "metadata": {
        "id": "NEKgpsPv8b7Y"
      },
      "source": [
        "## Random Number Generation\n",
        "Random numbers generation is an important tool in data science. \n",
        "It is used to generate random events during simulations\n",
        "For example, the data sets that you have used in exercises E2 were created \n",
        "using controlled random number generation!"
      ]
    },
    {
      "cell_type": "code",
      "execution_count": 46,
      "metadata": {
        "colab": {
          "base_uri": "https://localhost:8080/"
        },
        "id": "UQCNTLNTPGdK",
        "outputId": "3957cc85-d3e5-4f76-a583-cbdf937c19ea"
      },
      "outputs": [
        {
          "name": "stdout",
          "output_type": "stream",
          "text": [
            "[0.47486841 0.76105204 0.33692195 0.69600155 0.37196392]\n"
          ]
        }
      ],
      "source": [
        "# Let's check how to generate 5 random numbers between 0 and 1\n",
        "\n",
        "rg = np.random.default_rng()\n",
        "print(rg.random(5))\n",
        "\n",
        "# Did you observe that everytime you run this cell, you get 5 different numbers.\n",
        "#   Can you keep it to be a constant? We will try it out in the next cell\n",
        "\n",
        "# For now, Can you try to generate a 2D random array?\n",
        "# Write your code here\n"
      ]
    },
    {
      "cell_type": "code",
      "execution_count": 47,
      "metadata": {
        "colab": {
          "base_uri": "https://localhost:8080/"
        },
        "id": "zeR06_ujRCy3",
        "outputId": "fb1a08ec-9711-40ed-e3be-f01e9caf6e05"
      },
      "outputs": [
        {
          "name": "stdout",
          "output_type": "stream",
          "text": [
            "[0.77395605 0.43887844 0.85859792 0.69736803 0.09417735]\n",
            "[0.72612605 0.01690281 0.98080107 0.72460421 0.54421216]\n"
          ]
        }
      ],
      "source": [
        "# Run this cell multiple times and you will see the numbers in the array are always constant\n",
        "# What is the reason for this? It is because we have provided a 'seed' value of 42\n",
        "\n",
        "# Providing a seed value allows you to reproduce the same random numbers, which helps to \n",
        "# repeat, verify and validate simulations and experiments\n",
        "\n",
        "rg = np.random.default_rng(42)\n",
        "print(rg.random(5))\n",
        "\n",
        "# Now change the seed and re-run the cell, you will find a different set of numbers repeating ...\n",
        "rg = np.random.default_rng(56)\n",
        "print(rg.random(5))\n",
        "\n",
        "# Review the documentation at https://numpy.org/doc/stable/reference/random/generator.html "
      ]
    },
    {
      "cell_type": "code",
      "execution_count": 48,
      "metadata": {
        "colab": {
          "base_uri": "https://localhost:8080/"
        },
        "id": "me6ob8SLRzB_",
        "outputId": "9275472c-751d-4351-e9b8-09f0baeedc7f"
      },
      "outputs": [
        {
          "name": "stdout",
          "output_type": "stream",
          "text": [
            "1\n"
          ]
        }
      ],
      "source": [
        "# The above statements create random numbers between 0 and 1. What if we want integers?\n",
        "\n",
        "rg = np.random.default_rng(42)\n",
        "print(rg.integers(22))\n",
        "\n",
        "# Now can you generate 5 random integers using rg.integers()? \n",
        "# Try it yourself by referring to the documentation for numpy.random.default_rng().integers()\n",
        "# https://numpy.org/doc/stable/reference/random/generated/numpy.random.Generator.integers.html \n",
        "\n",
        "# Further, how will you generate a 3 x 5 matrix of random integers between 0 and 45?\n",
        "# Write your code here ..."
      ]
    },
    {
      "cell_type": "markdown",
      "metadata": {},
      "source": [
        "## File operations using numpy"
      ]
    },
    {
      "cell_type": "code",
      "execution_count": 49,
      "metadata": {},
      "outputs": [],
      "source": [
        "# you can save a numpy array to a file\n",
        "\n",
        "arr = np.arange(12).reshape(6,2,order='F')\n",
        "np.savetxt(\"numpy-array.csv\", arr, delimiter=',',fmt='%.4f',newline='\\n', header='y,x', footer='', comments='', encoding=None)"
      ]
    },
    {
      "cell_type": "code",
      "execution_count": 50,
      "metadata": {},
      "outputs": [
        {
          "name": "stdout",
          "output_type": "stream",
          "text": [
            "[[ 0.  6.]\n",
            " [ 1.  7.]\n",
            " [ 2.  8.]\n",
            " [ 3.  9.]\n",
            " [ 4. 10.]\n",
            " [ 5. 11.]]\n"
          ]
        }
      ],
      "source": [
        "# Read back the array from the file and print it\n",
        "new_arr = np.loadtxt(\"numpy-array.csv\", delimiter=',', skiprows=1, comments='#', encoding=None)\n",
        "print(new_arr)"
      ]
    },
    {
      "cell_type": "code",
      "execution_count": 51,
      "metadata": {},
      "outputs": [],
      "source": [
        "# Multiple numpy arrays can be compressed and written to a binary file using the \"np.savez\" function\n",
        "# Data written in this way can be read back using the \"np.load\" function\n",
        "# Refer to the documentation at \n",
        "#   https://numpy.org/doc/stable/reference/generated/numpy.savez.html and\n",
        "#   https://numpy.org/doc/stable/reference/generated/numpy.load.html"
      ]
    },
    {
      "cell_type": "markdown",
      "metadata": {},
      "source": [
        "### That's it ..."
      ]
    },
    {
      "cell_type": "code",
      "execution_count": 52,
      "metadata": {},
      "outputs": [],
      "source": [
        "# This unit has introduced the basics of numpy and numpy arrays.\n",
        "# The functionality covered in this unit is sufficient to start using numpy for data analysis.\n",
        "# We will start solving problems using these concepts and functions ...\n",
        "\n",
        "# The numpy package has many more sub modules, functions and methods.\n",
        "# Definitely visit the following links:\n",
        "\n",
        "# Quickstart guide to numpy: https://numpy.org/doc/stable/user/quickstart.html\n",
        "# Reference guide to all the numpy classes and methods: https://numpy.org/doc/stable/reference/index.html\n",
        "# You can refer to the entire numpy documentation at https://numpy.org/doc/stable/index.html \n",
        "\n",
        "# There is much more to be 'discovered' in numpy, as it will be in almost all the Python libraries!\n",
        "# Have fun!"
      ]
    }
  ],
  "metadata": {
    "colab": {
      "provenance": []
    },
    "kernelspec": {
      "display_name": ".venv",
      "language": "python",
      "name": "python3"
    },
    "language_info": {
      "codemirror_mode": {
        "name": "ipython",
        "version": 3
      },
      "file_extension": ".py",
      "mimetype": "text/x-python",
      "name": "python",
      "nbconvert_exporter": "python",
      "pygments_lexer": "ipython3",
      "version": "3.13.5"
    }
  },
  "nbformat": 4,
  "nbformat_minor": 0
}
